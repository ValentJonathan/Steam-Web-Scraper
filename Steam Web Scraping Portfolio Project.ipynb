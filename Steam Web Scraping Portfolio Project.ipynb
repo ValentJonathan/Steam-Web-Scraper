{
 "cells": [
  {
   "cell_type": "code",
   "execution_count": 1,
   "id": "88f42225",
   "metadata": {},
   "outputs": [],
   "source": [
    "from bs4 import BeautifulSoup\n",
    "import requests\n",
    "import smtplib\n",
    "import time\n",
    "import datetime\n",
    "import pandas as pd"
   ]
  },
  {
   "cell_type": "code",
   "execution_count": 3,
   "id": "3727de53",
   "metadata": {},
   "outputs": [],
   "source": [
    "#Connect to website\n",
    "\n",
    "url = \"https://store.steampowered.com/app/1091500/Cyberpunk_2077/\"\n",
    "#Cookies to pass Steam's age verification\n",
    "cookies = {'birthtime': '568022401'}\n",
    "headers = {\"User-Agent\": \"Mozilla/5.0 (Windows NT 10.0; Win64; x64; rv:92.0) Gecko/20100101 Firefox/92.0\", \"Accept-Encoding\":\"gzip, deflate\", \"Accept\":\"text/html,application/xhtml+xml,application/xml;q=0.9,*/*;q=0.8\", \"DNT\":\"1\",\"Connection\":\"close\", \"Upgrade-Insecure-Requests\":\"1\"}\n",
    "\n",
    "#Scrape relevant data for price checking\n",
    "page = requests.get(url, headers=headers,cookies=cookies)\n",
    "soup = BeautifulSoup(page.content,\"html.parser\") \n",
    "soup1 = BeautifulSoup(soup.prettify(),\"html.parser\")\n",
    "price = soup.find('div',{'class': 'game_purchase_price price'}).get_text()\n",
    "title = soup.find('div',{'class': 'apphub_AppName'}).get_text()\n",
    "price = price.strip()[1:]\n",
    "title = title.strip()\n",
    "\n",
    "\n",
    "import datetime\n",
    "\n",
    "today = datetime.date.today()\n",
    "\n",
    "#Using csv to record data\n",
    "import csv \n",
    "\n",
    "header = ['Game Title', 'Price', 'Date']\n",
    "data = [title, price, today]\n",
    "\n",
    "with open('SteamPriceChecker.csv', 'w', newline='', encoding='UTF8') as f:\n",
    "    writer = csv.writer(f)\n",
    "    writer.writerow(header)\n",
    "    writer.writerow(data)\n",
    "\n"
   ]
  },
  {
   "cell_type": "code",
   "execution_count": 5,
   "id": "4594a243",
   "metadata": {},
   "outputs": [
    {
     "name": "stdout",
     "output_type": "stream",
     "text": [
      "       Game Title   Price        Date\n",
      "0  Cyberpunk 2077  $69.00  2021-12-04\n"
     ]
    }
   ],
   "source": [
    "import pandas as pd\n",
    "\n",
    "df = pd.read_csv(r'C:\\Users\\ValentJo\\Downloads\\SteamPriceChecker.csv')\n",
    "\n",
    "print(df)\n"
   ]
  },
  {
   "cell_type": "code",
   "execution_count": 6,
   "id": "2559fb57",
   "metadata": {},
   "outputs": [],
   "source": [
    "#Appending data to the csv\n",
    "with open('SteamPriceChecker.csv', 'a+', newline='', encoding='UTF8') as f:\n",
    "        writer = csv.writer(f)\n",
    "        writer.writerow(data)\n"
   ]
  },
  {
   "cell_type": "code",
   "execution_count": 7,
   "id": "70974761",
   "metadata": {},
   "outputs": [],
   "source": [
    "#automating the process\n",
    "def check_price():\n",
    "\n",
    "    url = \"https://store.steampowered.com/app/1091500/Cyberpunk_2077/\"\n",
    "    cookies = {'birthtime': '568022401'}\n",
    "    headers = {\"User-Agent\": \"Mozilla/5.0 (Windows NT 10.0; Win64; x64; rv:92.0) Gecko/20100101 Firefox/92.0\", \"Accept-Encoding\":\"gzip, deflate\", \"Accept\":\"text/html,application/xhtml+xml,application/xml;q=0.9,*/*;q=0.8\", \"DNT\":\"1\",\"Connection\":\"close\", \"Upgrade-Insecure-Requests\":\"1\"}\n",
    "\n",
    "    page = requests.get(url, headers=headers,cookies=cookies)\n",
    "\n",
    "    soup = BeautifulSoup(page.content,\"html.parser\") \n",
    "\n",
    "    soup1 = BeautifulSoup(soup.prettify(),\"html.parser\")\n",
    "    \n",
    "    price = soup.find('div',{'class': 'game_purchase_price price'}).get_text()\n",
    "    title = soup.find('div',{'class': 'apphub_AppName'}).get_text()\n",
    "    price = price.strip()[1:]\n",
    "    title = title.strip()\n",
    "\n",
    "    import datetime\n",
    "\n",
    "    today = datetime.date.today()\n",
    "    \n",
    "    import csv \n",
    "\n",
    "    header = ['Game Title', 'Price', 'Date']\n",
    "    data = [title, price, today]\n",
    "\n",
    "    with open('SteamPriceChecker.csv', 'a+', newline='', encoding='UTF8') as f:\n",
    "        writer = csv.writer(f)\n",
    "        writer.writerow(data)"
   ]
  },
  {
   "cell_type": "code",
   "execution_count": null,
   "id": "d8701762",
   "metadata": {},
   "outputs": [],
   "source": [
    "# Runs check_price every day and inputs data into the CSV\n",
    "\n",
    "while(True):\n",
    "    check_price()\n",
    "    time.sleep(86400)"
   ]
  },
  {
   "cell_type": "code",
   "execution_count": null,
   "id": "1bd399e8",
   "metadata": {},
   "outputs": [],
   "source": [
    "# code to send myself an email when the price is cheap\n",
    "\n",
    "def send_mail():\n",
    "    server = smtplib.SMTP_SSL('smtp.gmail.com',465)\n",
    "    server.ehlo()\n",
    "    #server.starttls()\n",
    "    server.ehlo()\n",
    "    server.login('valentinusjonathan@gmail.com','xxxxxxxxxxxxxx')\n",
    "    \n",
    "    subject = \"The time has come\"\n",
    "    body = \"Hey, the game that you want? It's really cheap now bro\"\n",
    "   \n",
    "    msg = f\"Subject: {subject}\\n\\n{body}\"\n",
    "    \n",
    "    server.sendmail(\n",
    "        'valentinusjonathan@gmail.com',\n",
    "        msg\n",
    "     \n",
    "    )"
   ]
  },
  {
   "cell_type": "code",
   "execution_count": 14,
   "id": "47f669d2",
   "metadata": {},
   "outputs": [],
   "source": [
    "class color:\n",
    "   PURPLE = '\\033[95m'\n",
    "   CYAN = '\\033[96m'\n",
    "   DARKCYAN = '\\033[36m'\n",
    "   BLUE = '\\033[94m'\n",
    "   GREEN = '\\033[92m'\n",
    "   YELLOW = '\\033[93m'\n",
    "   RED = '\\033[91m'\n",
    "   BOLD = '\\033[1m'\n",
    "   UNDERLINE = '\\033[4m'\n",
    "   END = '\\033[0m'\n"
   ]
  },
  {
   "cell_type": "code",
   "execution_count": 12,
   "id": "9d3dc57c",
   "metadata": {},
   "outputs": [],
   "source": [
    "#Small side project to scrape the game's description \n",
    "\n",
    "def get_info(soup):\n",
    "    \"\"\"Return the game info such as release date, reviews, description and publisher\n",
    "    \"\"\"\n",
    "    for i in soup:\n",
    "        release_date = soup.find('div',{'class': 'date'}).get_text()\n",
    "        reviews =soup.find('span',{'class':'nonresponsive_hidden responsive_reviewdesc'}).get_text()\n",
    "        game_desc = soup.find(\"meta\", property=\"og:description\")\n",
    "        publisher = soup.find('div', {'class': 'grid_content'}).get_text()\n",
    "    print(color.BOLD +\"Release Date\"+color.END,'-',release_date.strip())\n",
    "    print(color.BOLD +\"Reviews\"+color.END,reviews.strip())\n",
    "    print(color.BOLD +\"Game Description\"+color.END,'-',game_desc[\"content\"] if game_desc else \"No meta title given\")\n",
    "    print(color.BOLD +\"Publisher\"+color.END,'-',publisher.strip())\n",
    "\n",
    "    \n"
   ]
  },
  {
   "cell_type": "code",
   "execution_count": 13,
   "id": "1d375cd4",
   "metadata": {},
   "outputs": [
    {
     "name": "stdout",
     "output_type": "stream",
     "text": [
      "\u001b[1mRelease Date\u001b[0m - 9 Dec, 2020\n",
      "\u001b[1mReviews\u001b[0m - 83% of the 28,271 user reviews in the last 30 days are positive.\n",
      "\u001b[1mGame Description\u001b[0m - Cyberpunk 2077 is an open-world, action-adventure story set in Night City, a megalopolis obsessed with power, glamour and body modification. You play as V, a mercenary outlaw going after a one-of-a-kind implant that is the key to immortality.\n",
      "\u001b[1mPublisher\u001b[0m - CD PROJEKT RED\n"
     ]
    }
   ],
   "source": [
    "data = get_info(soup1)\n",
    "data"
   ]
  },
  {
   "cell_type": "code",
   "execution_count": null,
   "id": "131e23c6",
   "metadata": {},
   "outputs": [],
   "source": []
  }
 ],
 "metadata": {
  "kernelspec": {
   "display_name": "Python 3",
   "language": "python",
   "name": "python3"
  },
  "language_info": {
   "codemirror_mode": {
    "name": "ipython",
    "version": 3
   },
   "file_extension": ".py",
   "mimetype": "text/x-python",
   "name": "python",
   "nbconvert_exporter": "python",
   "pygments_lexer": "ipython3",
   "version": "3.8.8"
  }
 },
 "nbformat": 4,
 "nbformat_minor": 5
}
